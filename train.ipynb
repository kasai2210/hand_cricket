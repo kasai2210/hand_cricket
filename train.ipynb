{
 "cells": [
  {
   "cell_type": "code",
   "execution_count": null,
   "metadata": {
    "colab": {},
    "colab_type": "code",
    "id": "GnL0PDqCLNNT"
   },
   "outputs": [],
   "source": [
    "# Import libraries\n",
    "import numpy as np\n",
    "import tensorflow as tf\n",
    "import matplotlib.pyplot as plt\n",
    "import keras \n",
    "import h5py\n",
    "from keras.models import Sequential\n",
    "from keras.layers import Dense\n",
    "from keras.layers import Dropout\n",
    "from keras.layers import Flatten\n",
    "from keras.constraints import maxnorm\n",
    "from keras.layers.convolutional import Conv2D\n",
    "from keras.layers.convolutional import MaxPooling2D\n",
    "from keras.utils import np_utils"
   ]
  },
  {
   "cell_type": "code",
   "execution_count": null,
   "metadata": {
    "colab": {
     "base_uri": "https://localhost:8080/",
     "height": 487
    },
    "colab_type": "code",
    "id": "zndeVOm4MGrN",
    "outputId": "07772252-3b01-4a7e-8485-0c4d0a5701ef"
   },
   "outputs": [
    {
     "name": "stdout",
     "output_type": "stream",
     "text": [
      "Model: \"sequential_2\"\n",
      "_________________________________________________________________\n",
      "Layer (type)                 Output Shape              Param #   \n",
      "=================================================================\n",
      "conv2d_6 (Conv2D)            (None, 64, 64, 32)        896       \n",
      "_________________________________________________________________\n",
      "dropout_4 (Dropout)          (None, 64, 64, 32)        0         \n",
      "_________________________________________________________________\n",
      "conv2d_7 (Conv2D)            (None, 64, 64, 64)        51264     \n",
      "_________________________________________________________________\n",
      "max_pooling2d_4 (MaxPooling2 (None, 32, 32, 64)        0         \n",
      "_________________________________________________________________\n",
      "conv2d_8 (Conv2D)            (None, 32, 32, 128)       73856     \n",
      "_________________________________________________________________\n",
      "max_pooling2d_5 (MaxPooling2 (None, 16, 16, 128)       0         \n",
      "_________________________________________________________________\n",
      "flatten_2 (Flatten)          (None, 32768)             0         \n",
      "_________________________________________________________________\n",
      "dense_4 (Dense)              (None, 512)               16777728  \n",
      "_________________________________________________________________\n",
      "dropout_5 (Dropout)          (None, 512)               0         \n",
      "_________________________________________________________________\n",
      "dense_5 (Dense)              (None, 6)                 3078      \n",
      "=================================================================\n",
      "Total params: 16,906,822\n",
      "Trainable params: 16,906,822\n",
      "Non-trainable params: 0\n",
      "_________________________________________________________________\n"
     ]
    }
   ],
   "source": [
    "model=Sequential()\n",
    "model.add(Conv2D(32,(3,3),input_shape=(64,64,3),\n",
    "    padding='same',activation='relu',\n",
    "    kernel_constraint=maxnorm(3)))\n",
    "model.add(Dropout(0.2))\n",
    "model.add(Conv2D(64,(5,5),activation='relu',padding='same',kernel_constraint=maxnorm(3)))\n",
    "model.add(MaxPooling2D(pool_size=(2,2)))\n",
    "model.add(Conv2D(128,(3,3),activation='relu',padding='same',kernel_constraint=maxnorm(3)))\n",
    "model.add(MaxPooling2D(pool_size=(2,2)))\n",
    "model.add(Flatten())\n",
    "model.add(Dense(512,activation='relu',kernel_constraint=maxnorm(3)))\n",
    "model.add(Dropout(0.5))\n",
    "model.add(Dense(num_classes, activation='softmax'))\n",
    "\n",
    "model.summary()"
   ]
  },
  {
   "cell_type": "code",
   "execution_count": null,
   "metadata": {
    "colab": {},
    "colab_type": "code",
    "id": "XrNgzKPwXJn5"
   },
   "outputs": [],
   "source": [
    "model.compile(optimizer=\"adam\", loss=\"categorical_crossentropy\", metrics=[\"accuracy\"])"
   ]
  },
  {
   "cell_type": "code",
   "execution_count": null,
   "metadata": {
    "colab": {
     "base_uri": "https://localhost:8080/",
     "height": 538
    },
    "colab_type": "code",
    "id": "j7cEjGVmXddc",
    "outputId": "f1f9cad3-f05e-4b70-f7b6-5423e388a3fc"
   },
   "outputs": [
    {
     "name": "stdout",
     "output_type": "stream",
     "text": [
      "Epoch 1/15\n",
      "17/17 [==============================] - 1s 56ms/step - loss: 2.3595 - accuracy: 0.1620 - val_loss: 1.7899 - val_accuracy: 0.3083\n",
      "Epoch 2/15\n",
      "17/17 [==============================] - 1s 34ms/step - loss: 1.7805 - accuracy: 0.2241 - val_loss: 1.7268 - val_accuracy: 0.2500\n",
      "Epoch 3/15\n",
      "17/17 [==============================] - 1s 34ms/step - loss: 1.5762 - accuracy: 0.3935 - val_loss: 1.2200 - val_accuracy: 0.6500\n",
      "Epoch 4/15\n",
      "17/17 [==============================] - 1s 34ms/step - loss: 1.1097 - accuracy: 0.5639 - val_loss: 0.9699 - val_accuracy: 0.7000\n",
      "Epoch 5/15\n",
      "17/17 [==============================] - 1s 34ms/step - loss: 0.9120 - accuracy: 0.6694 - val_loss: 0.8807 - val_accuracy: 0.7083\n",
      "Epoch 6/15\n",
      "17/17 [==============================] - 1s 34ms/step - loss: 0.7625 - accuracy: 0.7287 - val_loss: 0.6601 - val_accuracy: 0.8000\n",
      "Epoch 7/15\n",
      "17/17 [==============================] - 1s 35ms/step - loss: 0.5467 - accuracy: 0.8139 - val_loss: 0.5117 - val_accuracy: 0.8333\n",
      "Epoch 8/15\n",
      "17/17 [==============================] - 1s 34ms/step - loss: 0.4748 - accuracy: 0.8269 - val_loss: 0.4838 - val_accuracy: 0.8583\n",
      "Epoch 9/15\n",
      "17/17 [==============================] - 1s 34ms/step - loss: 0.4134 - accuracy: 0.8500 - val_loss: 0.4436 - val_accuracy: 0.8500\n",
      "Epoch 10/15\n",
      "17/17 [==============================] - 1s 34ms/step - loss: 0.3093 - accuracy: 0.9074 - val_loss: 0.3001 - val_accuracy: 0.9250\n",
      "Epoch 11/15\n",
      "17/17 [==============================] - 1s 35ms/step - loss: 0.2491 - accuracy: 0.9194 - val_loss: 0.2630 - val_accuracy: 0.9167\n",
      "Epoch 12/15\n",
      "17/17 [==============================] - 1s 34ms/step - loss: 0.1947 - accuracy: 0.9333 - val_loss: 0.2651 - val_accuracy: 0.9250\n",
      "Epoch 13/15\n",
      "17/17 [==============================] - 1s 34ms/step - loss: 0.1633 - accuracy: 0.9472 - val_loss: 0.2125 - val_accuracy: 0.9500\n",
      "Epoch 14/15\n",
      "17/17 [==============================] - 1s 34ms/step - loss: 0.1697 - accuracy: 0.9472 - val_loss: 0.2014 - val_accuracy: 0.9583\n",
      "Epoch 15/15\n",
      "17/17 [==============================] - 1s 34ms/step - loss: 0.0993 - accuracy: 0.9667 - val_loss: 0.1715 - val_accuracy: 0.9583\n"
     ]
    },
    {
     "data": {
      "text/plain": [
       "<tensorflow.python.keras.callbacks.History at 0x7fa70003e748>"
      ]
     },
     "execution_count": 56,
     "metadata": {
      "tags": []
     },
     "output_type": "execute_result"
    }
   ],
   "source": []
  },
  {
   "cell_type": "code",
   "execution_count": null,
   "metadata": {
    "colab": {},
    "colab_type": "code",
    "id": "PDBSGyxjZfjL"
   },
   "outputs": [],
   "source": [
    "model.save(\"model.h5\")"
   ]
  },
  {
   "cell_type": "code",
   "execution_count": null,
   "metadata": {
    "colab": {},
    "colab_type": "code",
    "id": "l2SHzcwAeYX5"
   },
   "outputs": [],
   "source": []
  }
 ],
 "metadata": {
  "accelerator": "GPU",
  "colab": {
   "collapsed_sections": [],
   "name": "train.ipynb",
   "provenance": []
  },
  "kernelspec": {
   "display_name": "Python 3",
   "language": "python",
   "name": "python3"
  },
  "language_info": {
   "codemirror_mode": {
    "name": "ipython",
    "version": 3
   },
   "file_extension": ".py",
   "mimetype": "text/x-python",
   "name": "python",
   "nbconvert_exporter": "python",
   "pygments_lexer": "ipython3",
   "version": "3.8.3"
  }
 },
 "nbformat": 4,
 "nbformat_minor": 1
}
